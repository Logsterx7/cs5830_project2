{
 "cells": [
  {
   "cell_type": "code",
   "execution_count": null,
   "id": "529edd37-d85b-425b-bbf1-685004c0fd3d",
   "metadata": {},
   "outputs": [],
   "source": [
    "import pandas as pd\n",
    "import seaborn as sns\n",
    "\n",
    "df = pd.read_csv(\"crime-housing-austin-2015.csv\")\n",
    "## df2 = pd.read_csv(\"AustinZipCodes.csv\")\n",
    "\n",
    "##Looks at data of income/homevalue of burglarized properties to see which are being targeted\n",
    "\n",
    "pop = df[['Location','Medianhouseholdincome','Highest_Offense_Desc','Medianhomevalue','Report_Date']]\n",
    "\n",
    "##only looking at ones we have the proper data for\n",
    "pop = pop[pop.Highest_Offense_Desc == 'BURGLARY OF RESIDENCE']\n",
    "pop = pop[pop.Medianhouseholdincome.isnull() != True]\n",
    "pop = pop[pop.Medianhomevalue.isnull() != True]\n",
    "##changes income to a interger value so that we can calculate things easier\n",
    "pop['Medianhouseholdincome'] = pop['Medianhouseholdincome'].replace('[\\$,]', '', regex=True).astype(int)\n",
    "\n",
    "sns.displot(data = pop, y='Medianhouseholdincome')\n"
   ]
  },
  {
   "cell_type": "code",
   "execution_count": null,
   "id": "3466abeb-bc73-4b2f-b31b-d3487315cefe",
   "metadata": {},
   "outputs": [],
   "source": [
    "##Compares home values with the amont of crimes that have been committed so we can see that value of those homes that are targeted\n",
    "pop['Medianhomevalue'] = pop['Medianhomevalue'].replace('[\\$,]', '', regex=True).astype(int)\n",
    "sns.displot(data = pop, y='Medianhomevalue')"
   ]
  },
  {
   "cell_type": "code",
   "execution_count": null,
   "id": "507a9e81-e2fd-4796-8f2a-42cd7cb29951",
   "metadata": {},
   "outputs": [],
   "source": [
    "\n",
    "import matplotlib.pyplot as plt\n",
    "\n",
    "##Which month contains the most/least crime?\n",
    "\n",
    "## [0] -> Day [1] -> Month [2] -> Year\n",
    "dates_expanded = pop['Report_Date'].str.split(pat = '-', expand = True)\n",
    "pop[['Day','Month','Year']] = dates_expanded\n",
    "\n",
    "## https://stackoverflow.com/questions/73616867/pie-chart-from-count-of-values-showing-the-percentage -- Found this here that helped a ton to make this\n",
    "## If needed we can use this one, it's just much more boring\n",
    "##sns.displot(data = pop, x='Month')\n",
    "total = pop['Month'].value_counts().values.sum()\n",
    "def fmt(x):\n",
    "    return '{:.1f}%\\n{:.0f}'.format(x, total*x/100)\n",
    "plt.pie(pop['Month'].value_counts().values, labels=pop['Month'].value_counts().index, autopct=fmt)"
   ]
  },
  {
   "cell_type": "code",
   "execution_count": null,
   "id": "658b08e7-0c16-43fd-a571-64e85fc9abc3",
   "metadata": {},
   "outputs": [],
   "source": []
  }
 ],
 "metadata": {
  "kernelspec": {
   "display_name": "Python 3 (ipykernel)",
   "language": "python",
   "name": "python3"
  },
  "language_info": {
   "codemirror_mode": {
    "name": "ipython",
    "version": 3
   },
   "file_extension": ".py",
   "mimetype": "text/x-python",
   "name": "python",
   "nbconvert_exporter": "python",
   "pygments_lexer": "ipython3",
   "version": "3.9.7"
  }
 },
 "nbformat": 4,
 "nbformat_minor": 5
}
