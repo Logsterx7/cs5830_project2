{
 "cells": [
  {
   "cell_type": "code",
   "execution_count": 6,
   "id": "529edd37-d85b-425b-bbf1-685004c0fd3d",
   "metadata": {},
   "outputs": [
    {
     "data": {
      "text/plain": [
       "array(['9001 N IH 35 SVRD NB', '919 E KOENIG LN SVRD EB',\n",
       "       '12151 N IH 35 SVRD NB', ..., '1016 E ANDERSON LN SVRD WB',\n",
       "       '5319 N LAMAR BLVD', '1100 BLOCK HARGRAVE ST'], dtype=object)"
      ]
     },
     "execution_count": 6,
     "metadata": {},
     "output_type": "execute_result"
    }
   ],
   "source": [
    "import pandas as pd\n",
    "import seaborn as sns\n",
    "\n",
    "df = pd.read_csv(\"crime-housing-austin-2015.csv\")\n",
    "display(df.Location.unique()"
   ]
  },
  {
   "cell_type": "code",
   "execution_count": null,
   "id": "3466abeb-bc73-4b2f-b31b-d3487315cefe",
   "metadata": {},
   "outputs": [],
   "source": []
  }
 ],
 "metadata": {
  "kernelspec": {
   "display_name": "Python 3 (ipykernel)",
   "language": "python",
   "name": "python3"
  },
  "language_info": {
   "codemirror_mode": {
    "name": "ipython",
    "version": 3
   },
   "file_extension": ".py",
   "mimetype": "text/x-python",
   "name": "python",
   "nbconvert_exporter": "python",
   "pygments_lexer": "ipython3",
   "version": "3.9.7"
  }
 },
 "nbformat": 4,
 "nbformat_minor": 5
}
